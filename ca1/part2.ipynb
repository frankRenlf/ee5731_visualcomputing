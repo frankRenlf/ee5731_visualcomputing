{
 "cells": [
  {
   "cell_type": "code",
   "execution_count": null,
   "outputs": [],
   "source": [
    "%matplotlib inline\n",
    "import numpy as np\n",
    "import cv2 as cv\n",
    "import matplotlib.pyplot as plt\n",
    "from tkinter import *\n",
    "from PIL import Image, ImageTk\n",
    "\n",
    "print('Required version:')\n",
    "print('     numpy  1.24.4')\n",
    "print('     cv2 4.8.0')\n",
    "print('     matplotlib 3.7.1')\n",
    "\n",
    "print('Current version:')\n",
    "print('     numpy ', np.__version__)\n",
    "print('     cv2', cv.__version__)\n",
    "print('     matplotlib', plt.matplotlib.__version__)"
   ],
   "metadata": {
    "collapsed": false
   },
   "id": "92c33ee8dea538ca"
  },
  {
   "cell_type": "code",
   "execution_count": null,
   "outputs": [],
   "source": [
    "# '2' in variables usually means 'to', such as h12h2, which means h1 to h2"
   ],
   "metadata": {
    "collapsed": false
   },
   "id": "9f81d98a47da2e95"
  },
  {
   "cell_type": "code",
   "execution_count": null,
   "outputs": [],
   "source": [
    "img_h1 = cv.imread('img/h1.jpg')\n",
    "cv.imwrite('img/h1_1.jpg', cv.resize(img_h1, (500, 500)))"
   ],
   "metadata": {
    "collapsed": false
   },
   "id": "86ca3112cf71886"
  },
  {
   "cell_type": "markdown",
   "source": [
    "## If you can't click in the appeared window, you need to drag the window once, and then it will be ok to click, because the package may have some bugs with different computer system.\n",
    "\n",
    "## And if click is success, the data will appear below the image. "
   ],
   "metadata": {
    "collapsed": false
   },
   "id": "1d96363b55824a6e"
  },
  {
   "cell_type": "code",
   "execution_count": null,
   "outputs": [],
   "source": [
    "loc = Tk()\n",
    "nodes = []\n",
    "loc.geometry(\"950x750\")\n",
    "loc.title(\"part2\")\n",
    "canvas = Canvas(loc, width=950, height=750, bg='white', )\n",
    "canvas.pack()\n",
    "\n",
    "img_h1 = Image.open('img/h1_1.jpg')\n",
    "img_h2 = Image.open('img/h2.jpg')\n",
    "img_h1_tk = ImageTk.PhotoImage(img_h1)\n",
    "img_h2_tk = ImageTk.PhotoImage(img_h2)\n",
    "\n",
    "\n",
    "def modify_img():\n",
    "    if not img_h2_tk:\n",
    "        raise ValueError(\"img_h2_tk is None\")\n",
    "    canvas.itemconfig(img_canvas, image=img_h2_tk)\n",
    "    canvas.itemconfig(text_canvas, text=\"You need to click 4 points on h2\")\n",
    "\n",
    "\n",
    "img_canvas = canvas.create_image(0, 0, image=img_h1_tk, anchor=NW)\n",
    "canvas.config(scrollregion=canvas.bbox(ALL))\n",
    "text_canvas = canvas.create_text(200, 620, text=\"You need to click 4 points on h1\", font=(\"Arial\", 15))\n",
    "canvas.create_text(180, 670, text=\"Position of points:\", font=(\"Arial\", 15))\n",
    "\n",
    "e2c = lambda e, c: (c.canvasx(e.x), c.canvasy(e.y))\n",
    "\n",
    "\n",
    "def print_pos(e):\n",
    "    if not e:\n",
    "        raise ValueError(\"e is None\")\n",
    "    px, py = e2c(e, canvas)\n",
    "    points_c = [e.y, e.x, py, px]\n",
    "    nodes.append(points_c)\n",
    "    index = len(nodes)\n",
    "    canvas.create_text(220 + index * 62, 670, text=f\"P{index}:(%d,%d),\" % (e.y, e.x), font=(\"Arial\", 10))\n",
    "    print(f\"Point {index}: ({e.y}, {e.x}) - ({py}, {px})\")\n",
    "\n",
    "\n",
    "# print_pos(e)\n",
    "canvas.bind(\"<ButtonPress-1>\", print_pos)\n",
    "\n",
    "btn = Button(loc, text='next img', command=modify_img)\n",
    "btn.place(x=800, y=700)\n",
    "\n",
    "loc.mainloop()"
   ],
   "metadata": {
    "collapsed": false
   },
   "id": "66dc861f795ec873"
  },
  {
   "cell_type": "code",
   "execution_count": null,
   "outputs": [],
   "source": [
    "#       h1_x    h1_y    h2_x    h2_y\n",
    "def homography(points):\n",
    "    if len(points) < 8:\n",
    "        raise ValueError(\"At least 8 points (4 point correspondences) are required.\")\n",
    "\n",
    "    ma = np.zeros([8, 9])\n",
    "\n",
    "    for i in range(0, 4):\n",
    "        h1_x, h1_y, h2_x, h2_y = points[i][2], points[i][3], points[i + 4][2], points[i + 4][3]\n",
    "\n",
    "        ma[2 * i][:] = [h1_x, h1_y, 1, 0, 0, 0, -h2_x * h1_x, -h2_x * h1_y, -h2_x]\n",
    "        ma[2 * i + 1][:] = [0, 0, 0, h1_x, h1_y, 1, -h2_y * h1_x, -h2_y * h1_y, -h2_y]\n",
    "\n",
    "    _, _, vt = np.linalg.svd(ma)\n",
    "    res = vt[-1].reshape(3, 3)\n",
    "    res = res / res[2, 2]\n",
    "\n",
    "    return res\n",
    "\n"
   ],
   "metadata": {
    "collapsed": false
   },
   "id": "739c12c15616e736"
  },
  {
   "cell_type": "code",
   "execution_count": null,
   "outputs": [],
   "source": [
    "H = homography(nodes)\n",
    "# print(\"homography results:\")\n",
    "# print(H)"
   ],
   "metadata": {
    "collapsed": false
   },
   "id": "c3082461f25fefb0"
  },
  {
   "cell_type": "code",
   "execution_count": null,
   "outputs": [],
   "source": [
    "image_h1 = cv.imread('img/h1_1.jpg')\n",
    "image_h1 = cv.cvtColor(image_h1, cv.COLOR_BGR2RGB)\n",
    "\n",
    "image_h2 = cv.imread('img/h2.jpg')\n",
    "image_h2 = cv.cvtColor(image_h2, cv.COLOR_BGR2RGB)\n",
    "\n",
    "\n",
    "def size_shape(h1, H):\n",
    "    if not h1.any():\n",
    "        raise ValueError(\"h1 is None\")\n",
    "    [r_val, c_val, _] = h1.shape\n",
    "\n",
    "    lt, rt, lb, rb = np.array([[0, 0, 1]]), np.array([[0, c_val, 1]]), np.array([[r_val, 0, 1]]), np.array(\n",
    "        [[r_val, c_val, 1]])\n",
    "\n",
    "    edge = np.concatenate((lt, rt, lb, rb), axis=0).T\n",
    "\n",
    "    e_trans = np.dot(H, edge)\n",
    "    e_trans = e_trans[0:2, :] / e_trans[2, :]\n",
    "    e_trans = e_trans\n",
    "    # print(e_trans)\n",
    "\n",
    "    return np.max(e_trans[0, :]), np.min(e_trans[0, :]), np.max(e_trans[1, :]), np.min(e_trans[1, :])\n",
    "\n",
    "\n",
    "def transfer_bilingual(h1, H):\n",
    "    if not h1.any():\n",
    "        raise ValueError(\"h1 is None\")\n",
    "    # h1 is the image to be transferred\n",
    "    arr = size_shape(h1, H)\n",
    "    if not arr:\n",
    "        raise ValueError(\"get shape not successful\")\n",
    "    [x_mx, x_mn, y_mx, y_mn] = arr\n",
    "\n",
    "    sub_x = int(round(x_mx - x_mn + 10))\n",
    "    sub_y = int(round(y_mx - y_mn + 10))\n",
    "    [r_val, c_val, cc] = h1.shape\n",
    "    h12h2 = np.zeros([sub_x + 100, sub_y + 100, cc])\n",
    "    for i in range(0, r_val):\n",
    "        for j in range(0, c_val):\n",
    "            p = np.array([[i, j, 1]]).T\n",
    "            p_val = np.dot(H, p)\n",
    "\n",
    "            px = int(round(p_val[0, 0] / p_val[2, 0]) - x_mn)\n",
    "            py = int(round(p_val[1, 0] / p_val[2, 0]) - y_mn)\n",
    "\n",
    "            h12h2[px, py] = h1[i, j][:]\n",
    "\n",
    "    return h12h2.astype(int)\n"
   ],
   "metadata": {
    "collapsed": false
   },
   "id": "74f1ebcf4d709fc7"
  },
  {
   "cell_type": "code",
   "execution_count": null,
   "outputs": [],
   "source": [
    "# plt.figure(figsize=(30, 30))\n",
    "# plt.title('h1')\n",
    "# plt.imshow(image_h1)\n",
    "# plt.show()"
   ],
   "metadata": {
    "collapsed": false
   },
   "id": "38214978e6657ad9"
  },
  {
   "cell_type": "code",
   "execution_count": null,
   "outputs": [],
   "source": [
    "# plt.figure(figsize=(40, 40))\n",
    "# plt.title('h2')\n",
    "# plt.imshow(image_h2)\n",
    "# plt.show()"
   ],
   "metadata": {
    "collapsed": false
   },
   "id": "2c29a801213f9165"
  },
  {
   "cell_type": "code",
   "execution_count": null,
   "outputs": [],
   "source": [
    "h12h2 = transfer_bilingual(image_h1, H)\n",
    "plt.imshow(h12h2)"
   ],
   "metadata": {
    "collapsed": false
   },
   "id": "b6ba9a2421c70eaf"
  },
  {
   "cell_type": "code",
   "execution_count": null,
   "outputs": [],
   "source": [
    "points2 = nodes[4:8] + nodes[0:4]\n",
    "H2 = homography(points2)\n",
    "H_1 = np.linalg.inv(H)\n",
    "h22h1 = transfer_bilingual(image_h2, H2)\n",
    "plt.imshow(h22h1)"
   ],
   "metadata": {
    "collapsed": false
   },
   "id": "4812b816b8e8d710"
  },
  {
   "cell_type": "code",
   "execution_count": null,
   "outputs": [],
   "source": [
    "loc = Tk()\n",
    "nodes_n = []\n",
    "\n",
    "loc.geometry(\"1100x800\")\n",
    "loc.title(\"part2\")\n",
    "canvas = Canvas(loc, bg='white', width=1100, height=800)\n",
    "canvas.pack()\n",
    "\n",
    "img_bus = Image.open('./img/bus.jpg')\n",
    "img_bus_tk = ImageTk.PhotoImage(img_bus)\n",
    "img_canvas = canvas.create_image(0, 0, image=img_bus_tk, anchor=NW)\n",
    "canvas.config(scrollregion=canvas.bbox(ALL))\n",
    "\n",
    "text_canvas = canvas.create_text(200, 730, text=\"Click Order: top left->top right->down left->down right\",\n",
    "                                 font=(\"Arial\", 15))\n",
    "canvas.create_text(180, 750, text=\"Position of points:\", font=(\"Arial\", 15))\n",
    "\n",
    "\n",
    "def print_pos_1(e):\n",
    "    if not e:\n",
    "        raise ValueError(\"e is None\")\n",
    "    px, py = e2c(e, canvas)\n",
    "    points_c = [e.y, e.x, py, px]\n",
    "    nodes_n.append(points_c)\n",
    "    index = len(nodes_n)\n",
    "    canvas.create_text(300 + index * 62, 750, text=f\"{index}:(%d,%d),\" % (e.y, e.x), font=(\"Arial\", 10))\n",
    "    print(f\"Point {index}: ({e.y}, {e.x}) - ({py}, {px})\")\n",
    "\n",
    "\n",
    "canvas.bind(\"<ButtonPress-1>\", print_pos_1)\n",
    "\n",
    "loc.mainloop()"
   ],
   "metadata": {
    "collapsed": false
   },
   "id": "4ebff9ba70ae147b"
  },
  {
   "cell_type": "code",
   "execution_count": null,
   "outputs": [],
   "source": [
    "bus = cv.imread('./img/bus.jpg', cv.IMREAD_COLOR)\n",
    "simpsons = cv.imread('./img/simpsons.jpg', cv.IMREAD_COLOR)\n",
    "bus = cv.cvtColor(bus, cv.COLOR_BGR2RGB)\n",
    "simpsons = cv.cvtColor(simpsons, cv.COLOR_BGR2RGB)\n",
    "\n",
    "# plt.imshow(simpsons)"
   ],
   "metadata": {
    "collapsed": false
   },
   "id": "1af76ec0bc499113"
  },
  {
   "cell_type": "code",
   "execution_count": null,
   "outputs": [],
   "source": [
    "[row, col, c] = simpsons.shape\n",
    "# lt = [[0, 0, 0, 0]]\n",
    "# rt = [[0, col - 1, 0, col - 1]]\n",
    "# lb = [[row - 1, 0, row - 1, 0]]\n",
    "# rb = [[row - 1, col - 1, row - 1, col - 1]]\n",
    "# top left, top right, down left, down right\n",
    "tl = [[0, 0, 0, 0]]\n",
    "dl = [[row, 0, row, 0]]\n",
    "tr = [[0, col, 0, col]]\n",
    "dr = [[row, col, row, col]]\n",
    "points_add = tl + tr + dl + dr + nodes_n\n",
    "\n",
    "H3 = homography(points_add)\n",
    "Simpsons_trans = transfer_bilingual(simpsons, H3)\n",
    "# plt.imshow(Simpsons_trans)\n"
   ],
   "metadata": {
    "collapsed": false
   },
   "id": "bb27ae0a8d773d44"
  },
  {
   "cell_type": "code",
   "execution_count": null,
   "outputs": [],
   "source": [
    "def add_Simpsons(arr, Simpsons, bus_add):\n",
    "    if not Simpsons.any():\n",
    "        raise ValueError(\"Simpsons is None\")\n",
    "    # add Simpsons to bus\n",
    "    for i in range(arr[0], arr[1]):\n",
    "        for j in range(arr[2], arr[3]):\n",
    "            x = i - arr[0]\n",
    "            y = j - arr[2]\n",
    "            if any(Simpsons[x, y] > 0):\n",
    "                # print(Simpsons[x, y])\n",
    "                bus_add[i, j] = Simpsons[x, y][:]"
   ],
   "metadata": {
    "collapsed": false
   },
   "id": "99580dfc6cd0699f"
  },
  {
   "cell_type": "code",
   "execution_count": null,
   "outputs": [],
   "source": [
    "bus_add = cv.imread('./img/bus.jpg', cv.IMREAD_COLOR)\n",
    "bus_add = cv.cvtColor(bus_add, cv.COLOR_BGR2RGB)\n",
    "\n",
    "points_2 = np.array(nodes_n)\n",
    "arr = np.array([int(np.min(points_2[:, 2])),\n",
    "                int(np.max(points_2[:, 2])),\n",
    "                int(np.min(points_2[:, 3])),\n",
    "                int(np.max(points_2[:, 3]))])\n",
    "add_Simpsons(arr, Simpsons_trans, bus_add)\n",
    "plt.imshow(bus_add)\n"
   ],
   "metadata": {
    "collapsed": false
   },
   "id": "5537ccd0bc2d02de"
  },
  {
   "cell_type": "code",
   "execution_count": null,
   "outputs": [],
   "source": [],
   "metadata": {
    "collapsed": false
   },
   "id": "92e85cc6b719cea"
  }
 ],
 "metadata": {
  "kernelspec": {
   "display_name": "Python 3",
   "language": "python",
   "name": "python3"
  },
  "language_info": {
   "codemirror_mode": {
    "name": "ipython",
    "version": 2
   },
   "file_extension": ".py",
   "mimetype": "text/x-python",
   "name": "python",
   "nbconvert_exporter": "python",
   "pygments_lexer": "ipython2",
   "version": "2.7.6"
  }
 },
 "nbformat": 4,
 "nbformat_minor": 5
}
